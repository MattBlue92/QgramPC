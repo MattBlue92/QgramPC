{
 "cells": [
  {
   "cell_type": "code",
   "execution_count": 24,
   "metadata": {
    "ExecuteTime": {
     "end_time": "2020-09-19T09:01:57.346940Z",
     "start_time": "2020-09-19T09:01:57.343712Z"
    }
   },
   "outputs": [],
   "source": [
    "import os \n",
    "import pandas as pd\n",
    "import matplotlib.pyplot as plt\n",
    "import numpy as np"
   ]
  },
  {
   "cell_type": "code",
   "execution_count": 25,
   "metadata": {
    "ExecuteTime": {
     "end_time": "2020-09-19T09:01:57.882927Z",
     "start_time": "2020-09-19T09:01:57.879383Z"
    }
   },
   "outputs": [],
   "source": [
    "path = %pwd"
   ]
  },
  {
   "cell_type": "code",
   "execution_count": 26,
   "metadata": {
    "ExecuteTime": {
     "end_time": "2020-09-19T09:01:58.388225Z",
     "start_time": "2020-09-19T09:01:58.383294Z"
    }
   },
   "outputs": [
    {
     "data": {
      "text/plain": [
       "'/home/matteo/IdeaProjects/Qgram_PC'"
      ]
     },
     "execution_count": 26,
     "metadata": {},
     "output_type": "execute_result"
    }
   ],
   "source": [
    "%pwd"
   ]
  },
  {
   "cell_type": "code",
   "execution_count": 27,
   "metadata": {
    "ExecuteTime": {
     "end_time": "2020-09-19T09:01:58.882475Z",
     "start_time": "2020-09-19T09:01:58.879189Z"
    }
   },
   "outputs": [],
   "source": [
    "path +=  \"/csv/speedUP.csv\""
   ]
  },
  {
   "cell_type": "code",
   "execution_count": 28,
   "metadata": {
    "ExecuteTime": {
     "end_time": "2020-09-19T09:01:59.487712Z",
     "start_time": "2020-09-19T09:01:59.481888Z"
    }
   },
   "outputs": [],
   "source": [
    "df = pd.read_csv(path)"
   ]
  },
  {
   "cell_type": "code",
   "execution_count": 29,
   "metadata": {
    "ExecuteTime": {
     "end_time": "2020-09-19T09:02:00.234885Z",
     "start_time": "2020-09-19T09:02:00.223092Z"
    }
   },
   "outputs": [
    {
     "data": {
      "text/html": [
       "<div>\n",
       "<style scoped>\n",
       "    .dataframe tbody tr th:only-of-type {\n",
       "        vertical-align: middle;\n",
       "    }\n",
       "\n",
       "    .dataframe tbody tr th {\n",
       "        vertical-align: top;\n",
       "    }\n",
       "\n",
       "    .dataframe thead th {\n",
       "        text-align: right;\n",
       "    }\n",
       "</style>\n",
       "<table border=\"1\" class=\"dataframe\">\n",
       "  <thead>\n",
       "    <tr style=\"text-align: right;\">\n",
       "      <th></th>\n",
       "      <th>NumThread</th>\n",
       "      <th>NumLibri</th>\n",
       "      <th>TempoParallelo</th>\n",
       "      <th>TempoSequenziale</th>\n",
       "      <th>SpeedUp</th>\n",
       "    </tr>\n",
       "  </thead>\n",
       "  <tbody>\n",
       "    <tr>\n",
       "      <th>0</th>\n",
       "      <td>1</td>\n",
       "      <td>1</td>\n",
       "      <td>406</td>\n",
       "      <td>289</td>\n",
       "      <td>0.711823</td>\n",
       "    </tr>\n",
       "    <tr>\n",
       "      <th>1</th>\n",
       "      <td>1</td>\n",
       "      <td>11</td>\n",
       "      <td>2459</td>\n",
       "      <td>2353</td>\n",
       "      <td>0.956893</td>\n",
       "    </tr>\n",
       "    <tr>\n",
       "      <th>2</th>\n",
       "      <td>1</td>\n",
       "      <td>21</td>\n",
       "      <td>4107</td>\n",
       "      <td>4108</td>\n",
       "      <td>1.000243</td>\n",
       "    </tr>\n",
       "    <tr>\n",
       "      <th>3</th>\n",
       "      <td>1</td>\n",
       "      <td>31</td>\n",
       "      <td>5878</td>\n",
       "      <td>6306</td>\n",
       "      <td>1.072814</td>\n",
       "    </tr>\n",
       "    <tr>\n",
       "      <th>4</th>\n",
       "      <td>1</td>\n",
       "      <td>41</td>\n",
       "      <td>7563</td>\n",
       "      <td>7485</td>\n",
       "      <td>0.989687</td>\n",
       "    </tr>\n",
       "    <tr>\n",
       "      <th>...</th>\n",
       "      <td>...</td>\n",
       "      <td>...</td>\n",
       "      <td>...</td>\n",
       "      <td>...</td>\n",
       "      <td>...</td>\n",
       "    </tr>\n",
       "    <tr>\n",
       "      <th>127</th>\n",
       "      <td>12</td>\n",
       "      <td>61</td>\n",
       "      <td>3586</td>\n",
       "      <td>12223</td>\n",
       "      <td>3.408533</td>\n",
       "    </tr>\n",
       "    <tr>\n",
       "      <th>128</th>\n",
       "      <td>12</td>\n",
       "      <td>71</td>\n",
       "      <td>4287</td>\n",
       "      <td>13432</td>\n",
       "      <td>3.133193</td>\n",
       "    </tr>\n",
       "    <tr>\n",
       "      <th>129</th>\n",
       "      <td>12</td>\n",
       "      <td>81</td>\n",
       "      <td>4501</td>\n",
       "      <td>16028</td>\n",
       "      <td>3.560986</td>\n",
       "    </tr>\n",
       "    <tr>\n",
       "      <th>130</th>\n",
       "      <td>12</td>\n",
       "      <td>91</td>\n",
       "      <td>5137</td>\n",
       "      <td>17896</td>\n",
       "      <td>3.483745</td>\n",
       "    </tr>\n",
       "    <tr>\n",
       "      <th>131</th>\n",
       "      <td>12</td>\n",
       "      <td>101</td>\n",
       "      <td>5723</td>\n",
       "      <td>20337</td>\n",
       "      <td>3.553556</td>\n",
       "    </tr>\n",
       "  </tbody>\n",
       "</table>\n",
       "<p>132 rows × 5 columns</p>\n",
       "</div>"
      ],
      "text/plain": [
       "     NumThread   NumLibri   TempoParallelo   TempoSequenziale   SpeedUp\n",
       "0            1          1              406                289  0.711823\n",
       "1            1         11             2459               2353  0.956893\n",
       "2            1         21             4107               4108  1.000243\n",
       "3            1         31             5878               6306  1.072814\n",
       "4            1         41             7563               7485  0.989687\n",
       "..         ...        ...              ...                ...       ...\n",
       "127         12         61             3586              12223  3.408533\n",
       "128         12         71             4287              13432  3.133193\n",
       "129         12         81             4501              16028  3.560986\n",
       "130         12         91             5137              17896  3.483745\n",
       "131         12        101             5723              20337  3.553556\n",
       "\n",
       "[132 rows x 5 columns]"
      ]
     },
     "execution_count": 29,
     "metadata": {},
     "output_type": "execute_result"
    }
   ],
   "source": [
    "df"
   ]
  },
  {
   "cell_type": "code",
   "execution_count": 7,
   "metadata": {
    "ExecuteTime": {
     "end_time": "2020-09-19T08:48:56.879705Z",
     "start_time": "2020-09-19T08:48:56.874048Z"
    }
   },
   "outputs": [
    {
     "data": {
      "text/plain": [
       "Index(['NumThread', ' NumLibri', ' TempoParallelo', ' TempoSequenziale',\n",
       "       ' SpeedUp'],\n",
       "      dtype='object')"
      ]
     },
     "execution_count": 7,
     "metadata": {},
     "output_type": "execute_result"
    }
   ],
   "source": [
    "df.columns"
   ]
  },
  {
   "cell_type": "code",
   "execution_count": 30,
   "metadata": {
    "ExecuteTime": {
     "end_time": "2020-09-19T09:03:41.483965Z",
     "start_time": "2020-09-19T09:03:41.479223Z"
    }
   },
   "outputs": [],
   "source": [
    "df_101 = df[df[\" NumLibri\"]==101]"
   ]
  },
  {
   "cell_type": "code",
   "execution_count": 32,
   "metadata": {
    "ExecuteTime": {
     "end_time": "2020-09-19T09:04:02.981112Z",
     "start_time": "2020-09-19T09:04:02.967566Z"
    }
   },
   "outputs": [
    {
     "data": {
      "text/html": [
       "<div>\n",
       "<style scoped>\n",
       "    .dataframe tbody tr th:only-of-type {\n",
       "        vertical-align: middle;\n",
       "    }\n",
       "\n",
       "    .dataframe tbody tr th {\n",
       "        vertical-align: top;\n",
       "    }\n",
       "\n",
       "    .dataframe thead th {\n",
       "        text-align: right;\n",
       "    }\n",
       "</style>\n",
       "<table border=\"1\" class=\"dataframe\">\n",
       "  <thead>\n",
       "    <tr style=\"text-align: right;\">\n",
       "      <th></th>\n",
       "      <th>NumThread</th>\n",
       "      <th>NumLibri</th>\n",
       "      <th>TempoParallelo</th>\n",
       "      <th>TempoSequenziale</th>\n",
       "      <th>SpeedUp</th>\n",
       "    </tr>\n",
       "  </thead>\n",
       "  <tbody>\n",
       "    <tr>\n",
       "      <th>10</th>\n",
       "      <td>1</td>\n",
       "      <td>101</td>\n",
       "      <td>20254</td>\n",
       "      <td>19836</td>\n",
       "      <td>0.979362</td>\n",
       "    </tr>\n",
       "    <tr>\n",
       "      <th>21</th>\n",
       "      <td>2</td>\n",
       "      <td>101</td>\n",
       "      <td>11994</td>\n",
       "      <td>20043</td>\n",
       "      <td>1.671086</td>\n",
       "    </tr>\n",
       "    <tr>\n",
       "      <th>32</th>\n",
       "      <td>3</td>\n",
       "      <td>101</td>\n",
       "      <td>9023</td>\n",
       "      <td>20045</td>\n",
       "      <td>2.221545</td>\n",
       "    </tr>\n",
       "    <tr>\n",
       "      <th>43</th>\n",
       "      <td>4</td>\n",
       "      <td>101</td>\n",
       "      <td>7299</td>\n",
       "      <td>19679</td>\n",
       "      <td>2.696123</td>\n",
       "    </tr>\n",
       "    <tr>\n",
       "      <th>54</th>\n",
       "      <td>5</td>\n",
       "      <td>101</td>\n",
       "      <td>6952</td>\n",
       "      <td>20126</td>\n",
       "      <td>2.894994</td>\n",
       "    </tr>\n",
       "    <tr>\n",
       "      <th>65</th>\n",
       "      <td>6</td>\n",
       "      <td>101</td>\n",
       "      <td>7582</td>\n",
       "      <td>20448</td>\n",
       "      <td>2.696914</td>\n",
       "    </tr>\n",
       "    <tr>\n",
       "      <th>76</th>\n",
       "      <td>7</td>\n",
       "      <td>101</td>\n",
       "      <td>7341</td>\n",
       "      <td>19272</td>\n",
       "      <td>2.625255</td>\n",
       "    </tr>\n",
       "    <tr>\n",
       "      <th>87</th>\n",
       "      <td>8</td>\n",
       "      <td>101</td>\n",
       "      <td>6801</td>\n",
       "      <td>19260</td>\n",
       "      <td>2.831936</td>\n",
       "    </tr>\n",
       "    <tr>\n",
       "      <th>98</th>\n",
       "      <td>9</td>\n",
       "      <td>101</td>\n",
       "      <td>6200</td>\n",
       "      <td>20232</td>\n",
       "      <td>3.263226</td>\n",
       "    </tr>\n",
       "    <tr>\n",
       "      <th>109</th>\n",
       "      <td>10</td>\n",
       "      <td>101</td>\n",
       "      <td>5864</td>\n",
       "      <td>19561</td>\n",
       "      <td>3.335778</td>\n",
       "    </tr>\n",
       "    <tr>\n",
       "      <th>120</th>\n",
       "      <td>11</td>\n",
       "      <td>101</td>\n",
       "      <td>5560</td>\n",
       "      <td>19516</td>\n",
       "      <td>3.510072</td>\n",
       "    </tr>\n",
       "    <tr>\n",
       "      <th>131</th>\n",
       "      <td>12</td>\n",
       "      <td>101</td>\n",
       "      <td>5723</td>\n",
       "      <td>20337</td>\n",
       "      <td>3.553556</td>\n",
       "    </tr>\n",
       "  </tbody>\n",
       "</table>\n",
       "</div>"
      ],
      "text/plain": [
       "     NumThread   NumLibri   TempoParallelo   TempoSequenziale   SpeedUp\n",
       "10           1        101            20254              19836  0.979362\n",
       "21           2        101            11994              20043  1.671086\n",
       "32           3        101             9023              20045  2.221545\n",
       "43           4        101             7299              19679  2.696123\n",
       "54           5        101             6952              20126  2.894994\n",
       "65           6        101             7582              20448  2.696914\n",
       "76           7        101             7341              19272  2.625255\n",
       "87           8        101             6801              19260  2.831936\n",
       "98           9        101             6200              20232  3.263226\n",
       "109         10        101             5864              19561  3.335778\n",
       "120         11        101             5560              19516  3.510072\n",
       "131         12        101             5723              20337  3.553556"
      ]
     },
     "execution_count": 32,
     "metadata": {},
     "output_type": "execute_result"
    }
   ],
   "source": [
    "df_101"
   ]
  },
  {
   "cell_type": "code",
   "execution_count": 35,
   "metadata": {
    "ExecuteTime": {
     "end_time": "2020-09-19T09:06:01.582354Z",
     "start_time": "2020-09-19T09:06:01.579274Z"
    }
   },
   "outputs": [],
   "source": [
    "pathPlot = %pwd\n",
    "pathPlot += '/plot/'"
   ]
  },
  {
   "cell_type": "code",
   "execution_count": 36,
   "metadata": {
    "ExecuteTime": {
     "end_time": "2020-09-19T09:06:08.695398Z",
     "start_time": "2020-09-19T09:06:08.447435Z"
    }
   },
   "outputs": [
    {
     "data": {
      "image/png": "[encoded data removed]",
      "text/plain": [
       "<Figure size 432x288 with 1 Axes>"
      ]
     },
     "metadata": {
      "needs_background": "light"
     },
     "output_type": "display_data"
    }
   ],
   "source": [
    "plt.grid()\n",
    "plt.plot(df_101.NumThread, df_101[' SpeedUp'], '-s', color = \"red\", label = \"speed-UP\")\n",
    "plt.plot(np.arange(12), np.arange(12), '-s', color = \"green\", label = \"speed-up linear\")\n",
    "plt.title(\"Bigrammi SpeedUp\", fontsize = 18)\n",
    "plt.ylabel(\"SpeedUp\", fontsize = 14)\n",
    "plt.xlabel(\"Numero threads\", fontsize = 14)\n",
    "plt.legend()\n",
    "plt.savefig(pathPlot+\"speedUp.png\")"
   ]
  },
  {
   "cell_type": "code",
   "execution_count": null,
   "metadata": {},
   "outputs": [],
   "source": []
  }
 ],
 "metadata": {
  "kernelspec": {
   "display_name": "Python 3",
   "language": "python",
   "name": "python3"
  },
  "language_info": {
   "codemirror_mode": {
    "name": "ipython",
    "version": 3
   },
   "file_extension": ".py",
   "mimetype": "text/x-python",
   "name": "python",
   "nbconvert_exporter": "python",
   "pygments_lexer": "ipython3",
   "version": "3.8.2"
  },
  "varInspector": {
   "cols": {
    "lenName": 16,
    "lenType": 16,
    "lenVar": 40
   },
   "kernels_config": {
    "python": {
     "delete_cmd_postfix": "",
     "delete_cmd_prefix": "del ",
     "library": "var_list.py",
     "varRefreshCmd": "print(var_dic_list())"
    },
    "r": {
     "delete_cmd_postfix": ") ",
     "delete_cmd_prefix": "rm(",
     "library": "var_list.r",
     "varRefreshCmd": "cat(var_dic_list()) "
    }
   },
   "types_to_exclude": [
    "module",
    "function",
    "builtin_function_or_method",
    "instance",
    "_Feature"
   ],
   "window_display": false
  }
 },
 "nbformat": 4,
 "nbformat_minor": 4
}
